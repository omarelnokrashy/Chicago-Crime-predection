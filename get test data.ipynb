{
 "cells": [
  {
   "cell_type": "code",
   "execution_count": null,
   "metadata": {},
   "outputs": [],
   "source": []
  },
  {
   "cell_type": "markdown",
   "metadata": {},
   "source": [
    "## 1. Load Data and import Dependencies"
   ]
  },
  {
   "cell_type": "code",
   "execution_count": 10,
   "metadata": {},
   "outputs": [],
   "source": [
    "import numpy as np\n",
    "import pandas as pd\n",
    "import seaborn as sns\n",
    "import matplotlib.pyplot as plt\n",
    "\n",
    "from matplotlib import cm\n",
    "from sklearn.ensemble import RandomForestClassifier\n",
    "from sklearn.tree import DecisionTreeClassifier\n",
    "from sklearn.metrics import accuracy_score\n",
    "from sklearn.neighbors import KNeighborsClassifier\n",
    "from sklearn.linear_model import LogisticRegression\n",
    "from sklearn.ensemble import RandomForestClassifier\n",
    "from sklearn.metrics import classification_report, confusion_matrix\n",
    "from sklearn.preprocessing import StandardScaler\n",
    "from sklearn.svm import SVC"
   ]
  },
  {
   "cell_type": "code",
   "execution_count": 11,
   "metadata": {},
   "outputs": [],
   "source": [
    "df=pd.read_csv(\"Crime Prediction in Chicago_Dataset.csv\")"
   ]
  },
  {
   "cell_type": "code",
   "execution_count": 12,
   "metadata": {},
   "outputs": [
    {
     "data": {
      "text/html": [
       "<div>\n",
       "<style scoped>\n",
       "    .dataframe tbody tr th:only-of-type {\n",
       "        vertical-align: middle;\n",
       "    }\n",
       "\n",
       "    .dataframe tbody tr th {\n",
       "        vertical-align: top;\n",
       "    }\n",
       "\n",
       "    .dataframe thead th {\n",
       "        text-align: right;\n",
       "    }\n",
       "</style>\n",
       "<table border=\"1\" class=\"dataframe\">\n",
       "  <thead>\n",
       "    <tr style=\"text-align: right;\">\n",
       "      <th></th>\n",
       "      <th>ID</th>\n",
       "      <th>Case Number</th>\n",
       "      <th>Date</th>\n",
       "      <th>Block</th>\n",
       "      <th>IUCR</th>\n",
       "      <th>Primary Type</th>\n",
       "      <th>Description</th>\n",
       "      <th>Location Description</th>\n",
       "      <th>Arrest</th>\n",
       "      <th>Domestic</th>\n",
       "      <th>...</th>\n",
       "      <th>Ward</th>\n",
       "      <th>Community Area</th>\n",
       "      <th>FBI Code</th>\n",
       "      <th>X Coordinate</th>\n",
       "      <th>Y Coordinate</th>\n",
       "      <th>Year</th>\n",
       "      <th>Updated On</th>\n",
       "      <th>Latitude</th>\n",
       "      <th>Longitude</th>\n",
       "      <th>Location</th>\n",
       "    </tr>\n",
       "  </thead>\n",
       "  <tbody>\n",
       "    <tr>\n",
       "      <th>0</th>\n",
       "      <td>12592454</td>\n",
       "      <td>JF113025</td>\n",
       "      <td>1/14/2022 15:55</td>\n",
       "      <td>067XX S MORGAN ST</td>\n",
       "      <td>2826</td>\n",
       "      <td>OTHER OFFENSE</td>\n",
       "      <td>HARASSMENT BY ELECTRONIC MEANS</td>\n",
       "      <td>RESIDENCE</td>\n",
       "      <td>False</td>\n",
       "      <td>True</td>\n",
       "      <td>...</td>\n",
       "      <td>16.0</td>\n",
       "      <td>68</td>\n",
       "      <td>26</td>\n",
       "      <td>1170805.0</td>\n",
       "      <td>1860170.0</td>\n",
       "      <td>2022</td>\n",
       "      <td>9/14/2023 15:41</td>\n",
       "      <td>41.771782</td>\n",
       "      <td>-87.649437</td>\n",
       "      <td>(41.771782439, -87.649436929)</td>\n",
       "    </tr>\n",
       "    <tr>\n",
       "      <th>1</th>\n",
       "      <td>12785595</td>\n",
       "      <td>JF346553</td>\n",
       "      <td>8/5/2022 21:00</td>\n",
       "      <td>072XX S UNIVERSITY AVE</td>\n",
       "      <td>1544</td>\n",
       "      <td>SEX OFFENSE</td>\n",
       "      <td>SEXUAL EXPLOITATION OF A CHILD</td>\n",
       "      <td>APARTMENT</td>\n",
       "      <td>True</td>\n",
       "      <td>False</td>\n",
       "      <td>...</td>\n",
       "      <td>5.0</td>\n",
       "      <td>69</td>\n",
       "      <td>17</td>\n",
       "      <td>1185135.0</td>\n",
       "      <td>1857211.0</td>\n",
       "      <td>2022</td>\n",
       "      <td>9/14/2023 15:41</td>\n",
       "      <td>41.763338</td>\n",
       "      <td>-87.597001</td>\n",
       "      <td>(41.763337967, -87.597001131)</td>\n",
       "    </tr>\n",
       "    <tr>\n",
       "      <th>2</th>\n",
       "      <td>12808281</td>\n",
       "      <td>JF373517</td>\n",
       "      <td>8/14/2022 14:00</td>\n",
       "      <td>055XX W ARDMORE AVE</td>\n",
       "      <td>1562</td>\n",
       "      <td>SEX OFFENSE</td>\n",
       "      <td>AGGRAVATED CRIMINAL SEXUAL ABUSE</td>\n",
       "      <td>RESIDENCE</td>\n",
       "      <td>False</td>\n",
       "      <td>False</td>\n",
       "      <td>...</td>\n",
       "      <td>39.0</td>\n",
       "      <td>11</td>\n",
       "      <td>17</td>\n",
       "      <td>1138383.0</td>\n",
       "      <td>1937953.0</td>\n",
       "      <td>2022</td>\n",
       "      <td>9/14/2023 15:41</td>\n",
       "      <td>41.985875</td>\n",
       "      <td>-87.766404</td>\n",
       "      <td>(41.985875279, -87.766403857)</td>\n",
       "    </tr>\n",
       "    <tr>\n",
       "      <th>3</th>\n",
       "      <td>12888104</td>\n",
       "      <td>JF469015</td>\n",
       "      <td>11/10/2022 3:47</td>\n",
       "      <td>072XX S MAY ST</td>\n",
       "      <td>1477</td>\n",
       "      <td>WEAPONS VIOLATION</td>\n",
       "      <td>RECKLESS FIREARM DISCHARGE</td>\n",
       "      <td>STREET</td>\n",
       "      <td>False</td>\n",
       "      <td>False</td>\n",
       "      <td>...</td>\n",
       "      <td>17.0</td>\n",
       "      <td>68</td>\n",
       "      <td>15</td>\n",
       "      <td>1169903.0</td>\n",
       "      <td>1856822.0</td>\n",
       "      <td>2022</td>\n",
       "      <td>9/14/2023 15:41</td>\n",
       "      <td>41.762615</td>\n",
       "      <td>-87.652840</td>\n",
       "      <td>(41.76261474, -87.652840463)</td>\n",
       "    </tr>\n",
       "    <tr>\n",
       "      <th>4</th>\n",
       "      <td>13209277</td>\n",
       "      <td>JG422539</td>\n",
       "      <td>8/15/2022 9:00</td>\n",
       "      <td>0000X W JACKSON BLVD</td>\n",
       "      <td>810</td>\n",
       "      <td>THEFT</td>\n",
       "      <td>OVER $500</td>\n",
       "      <td>COMMERCIAL / BUSINESS OFFICE</td>\n",
       "      <td>False</td>\n",
       "      <td>False</td>\n",
       "      <td>...</td>\n",
       "      <td>4.0</td>\n",
       "      <td>32</td>\n",
       "      <td>6</td>\n",
       "      <td>NaN</td>\n",
       "      <td>NaN</td>\n",
       "      <td>2022</td>\n",
       "      <td>9/14/2023 15:43</td>\n",
       "      <td>NaN</td>\n",
       "      <td>NaN</td>\n",
       "      <td>NaN</td>\n",
       "    </tr>\n",
       "  </tbody>\n",
       "</table>\n",
       "<p>5 rows × 22 columns</p>\n",
       "</div>"
      ],
      "text/plain": [
       "         ID Case Number             Date                   Block  IUCR  \\\n",
       "0  12592454    JF113025  1/14/2022 15:55       067XX S MORGAN ST  2826   \n",
       "1  12785595    JF346553   8/5/2022 21:00  072XX S UNIVERSITY AVE  1544   \n",
       "2  12808281    JF373517  8/14/2022 14:00     055XX W ARDMORE AVE  1562   \n",
       "3  12888104    JF469015  11/10/2022 3:47          072XX S MAY ST  1477   \n",
       "4  13209277    JG422539   8/15/2022 9:00    0000X W JACKSON BLVD   810   \n",
       "\n",
       "        Primary Type                       Description  \\\n",
       "0      OTHER OFFENSE    HARASSMENT BY ELECTRONIC MEANS   \n",
       "1        SEX OFFENSE    SEXUAL EXPLOITATION OF A CHILD   \n",
       "2        SEX OFFENSE  AGGRAVATED CRIMINAL SEXUAL ABUSE   \n",
       "3  WEAPONS VIOLATION        RECKLESS FIREARM DISCHARGE   \n",
       "4              THEFT                         OVER $500   \n",
       "\n",
       "           Location Description  Arrest  Domestic  ...  Ward  Community Area  \\\n",
       "0                     RESIDENCE   False      True  ...  16.0              68   \n",
       "1                     APARTMENT    True     False  ...   5.0              69   \n",
       "2                     RESIDENCE   False     False  ...  39.0              11   \n",
       "3                        STREET   False     False  ...  17.0              68   \n",
       "4  COMMERCIAL / BUSINESS OFFICE   False     False  ...   4.0              32   \n",
       "\n",
       "   FBI Code  X Coordinate Y Coordinate  Year       Updated On   Latitude  \\\n",
       "0        26     1170805.0    1860170.0  2022  9/14/2023 15:41  41.771782   \n",
       "1        17     1185135.0    1857211.0  2022  9/14/2023 15:41  41.763338   \n",
       "2        17     1138383.0    1937953.0  2022  9/14/2023 15:41  41.985875   \n",
       "3        15     1169903.0    1856822.0  2022  9/14/2023 15:41  41.762615   \n",
       "4         6           NaN          NaN  2022  9/14/2023 15:43        NaN   \n",
       "\n",
       "   Longitude                       Location  \n",
       "0 -87.649437  (41.771782439, -87.649436929)  \n",
       "1 -87.597001  (41.763337967, -87.597001131)  \n",
       "2 -87.766404  (41.985875279, -87.766403857)  \n",
       "3 -87.652840   (41.76261474, -87.652840463)  \n",
       "4        NaN                            NaN  \n",
       "\n",
       "[5 rows x 22 columns]"
      ]
     },
     "execution_count": 12,
     "metadata": {},
     "output_type": "execute_result"
    }
   ],
   "source": [
    "df.head()"
   ]
  },
  {
   "cell_type": "code",
   "execution_count": 13,
   "metadata": {},
   "outputs": [
    {
     "name": "stdout",
     "output_type": "stream",
     "text": [
      "<class 'pandas.core.frame.DataFrame'>\n",
      "RangeIndex: 239558 entries, 0 to 239557\n",
      "Data columns (total 22 columns):\n",
      " #   Column                Non-Null Count   Dtype  \n",
      "---  ------                --------------   -----  \n",
      " 0   ID                    239558 non-null  int64  \n",
      " 1   Case Number           239558 non-null  object \n",
      " 2   Date                  239558 non-null  object \n",
      " 3   Block                 239558 non-null  object \n",
      " 4   IUCR                  239558 non-null  object \n",
      " 5   Primary Type          239558 non-null  object \n",
      " 6   Description           239558 non-null  object \n",
      " 7   Location Description  238593 non-null  object \n",
      " 8   Arrest                239558 non-null  bool   \n",
      " 9   Domestic              239558 non-null  bool   \n",
      " 10  Beat                  239558 non-null  int64  \n",
      " 11  District              239558 non-null  int64  \n",
      " 12  Ward                  239548 non-null  float64\n",
      " 13  Community Area        239558 non-null  int64  \n",
      " 14  FBI Code              239558 non-null  object \n",
      " 15  X Coordinate          234891 non-null  float64\n",
      " 16  Y Coordinate          234891 non-null  float64\n",
      " 17  Year                  239558 non-null  int64  \n",
      " 18  Updated On            239558 non-null  object \n",
      " 19  Latitude              234891 non-null  float64\n",
      " 20  Longitude             234891 non-null  float64\n",
      " 21  Location              234891 non-null  object \n",
      "dtypes: bool(2), float64(5), int64(5), object(10)\n",
      "memory usage: 37.0+ MB\n"
     ]
    }
   ],
   "source": [
    "df.info()"
   ]
  },
  {
   "cell_type": "code",
   "execution_count": 14,
   "metadata": {},
   "outputs": [
    {
     "data": {
      "text/plain": [
       "ID                         0\n",
       "Case Number                0\n",
       "Date                       0\n",
       "Block                      0\n",
       "IUCR                       0\n",
       "Primary Type               0\n",
       "Description                0\n",
       "Location Description     965\n",
       "Arrest                     0\n",
       "Domestic                   0\n",
       "Beat                       0\n",
       "District                   0\n",
       "Ward                      10\n",
       "Community Area             0\n",
       "FBI Code                   0\n",
       "X Coordinate            4667\n",
       "Y Coordinate            4667\n",
       "Year                       0\n",
       "Updated On                 0\n",
       "Latitude                4667\n",
       "Longitude               4667\n",
       "Location                4667\n",
       "dtype: int64"
      ]
     },
     "execution_count": 14,
     "metadata": {},
     "output_type": "execute_result"
    }
   ],
   "source": [
    "df.isnull().sum()"
   ]
  },
  {
   "cell_type": "code",
   "execution_count": 15,
   "metadata": {},
   "outputs": [
    {
     "data": {
      "text/plain": [
       "(239558, 22)"
      ]
     },
     "execution_count": 15,
     "metadata": {},
     "output_type": "execute_result"
    }
   ],
   "source": [
    "df.shape"
   ]
  },
  {
   "cell_type": "code",
   "execution_count": 16,
   "metadata": {},
   "outputs": [],
   "source": [
    "# Extract hour,Day,month\n",
    "df['Date'] = pd.to_datetime(df['Date'])\n",
    "df['hour'] = df['Date'].dt.hour\n",
    "df['day_of_week'] = df['Date'].dt.dayofweek\n",
    "df['month'] = df['Date'].dt.month\n",
    "df.drop(columns=['Date'],inplace=True)17"
   ]
  },
  {
   "cell_type": "code",
   "execution_count": 18,
   "metadata": {},
   "outputs": [
    {
     "data": {
      "text/plain": [
       "ID                                           12735680\n",
       "Case Number                                  JF286563\n",
       "Block                               085XX S PEORIA ST\n",
       "IUCR                                             041A\n",
       "Primary Type                                  BATTERY\n",
       "Description                      AGGRAVATED - HANDGUN\n",
       "Location Description          SCHOOL - PUBLIC GROUNDS\n",
       "Arrest                                          False\n",
       "Domestic                                        False\n",
       "Beat                                              613\n",
       "District                                            6\n",
       "Ward                                             17.0\n",
       "Community Area                                     71\n",
       "FBI Code                                          04B\n",
       "X Coordinate                                1171804.0\n",
       "Y Coordinate                                1848175.0\n",
       "Year                                             2022\n",
       "Updated On                            9/15/2023 15:41\n",
       "Latitude                                    41.738845\n",
       "Longitude                                  -87.646126\n",
       "Location                (41.738844769, -87.646126146)\n",
       "hour                                                0\n",
       "day_of_week                                         0\n",
       "month                                               6\n",
       "Name: 10, dtype: object"
      ]
     },
     "execution_count": 18,
     "metadata": {},
     "output_type": "execute_result"
    }
   ],
   "source": [
    "df.iloc[10,:]"
   ]
  },
  {
   "cell_type": "code",
   "execution_count": null,
   "metadata": {},
   "outputs": [],
   "source": []
  }
 ],
 "metadata": {
  "kernelspec": {
   "display_name": "Python 3",
   "language": "python",
   "name": "python3"
  },
  "language_info": {
   "codemirror_mode": {
    "name": "ipython",
    "version": 3
   },
   "file_extension": ".py",
   "mimetype": "text/x-python",
   "name": "python",
   "nbconvert_exporter": "python",
   "pygments_lexer": "ipython3",
   "version": "3.13.0"
  }
 },
 "nbformat": 4,
 "nbformat_minor": 2
}
